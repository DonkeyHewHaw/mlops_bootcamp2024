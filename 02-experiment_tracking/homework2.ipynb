{
 "cells": [
  {
   "cell_type": "code",
   "execution_count": 5,
   "metadata": {},
   "outputs": [],
   "source": [
    "import pandas as pd\n",
    "import numpy as np\n",
    "import requests"
   ]
  },
  {
   "cell_type": "code",
   "execution_count": 3,
   "metadata": {},
   "outputs": [],
   "source": [
    "green_jan23_url = 'https://d37ci6vzurychx.cloudfront.net/trip-data/green_tripdata_2023-01.parquet'\n",
    "green_feb23_url = 'https://d37ci6vzurychx.cloudfront.net/trip-data/green_tripdata_2023-02.parquet'\n",
    "green_mar23_url = 'https://d37ci6vzurychx.cloudfront.net/trip-data/green_tripdata_2023-03.parquet'"
   ]
  },
  {
   "cell_type": "code",
   "execution_count": 4,
   "metadata": {},
   "outputs": [],
   "source": [
    "parquet_list = [green_jan23_url, green_feb23_url, green_mar23_url]"
   ]
  },
  {
   "cell_type": "code",
   "execution_count": 12,
   "metadata": {},
   "outputs": [],
   "source": [
    "for i, file in enumerate(parquet_list):\n",
    "    r = requests.get(file)\n",
    "\n",
    "    with open(f\"green_tripdata_2023-0{i+1}.parquet\",'wb') as f: \n",
    "      f.write(r.content) "
   ]
  },
  {
   "cell_type": "code",
   "execution_count": null,
   "metadata": {},
   "outputs": [],
   "source": [
    "/workspaces/mlops_bootcamp2024/02-experiment_tracking/taxi_data"
   ]
  },
  {
   "cell_type": "code",
   "execution_count": 2,
   "metadata": {},
   "outputs": [
    {
     "name": "stdout",
     "output_type": "stream",
     "text": [
      "Collecting mlflow\n",
      "  Downloading mlflow-2.13.0-py3-none-any.whl (25.0 MB)\n",
      "\u001b[K     |████████████████████████████████| 25.0 MB 24.4 MB/s eta 0:00:01\n",
      "\u001b[?25hRequirement already satisfied: numpy<2 in /home/codespace/anaconda3/lib/python3.9/site-packages (from mlflow) (1.26.4)\n",
      "Requirement already satisfied: pyyaml<7,>=5.1 in /home/codespace/anaconda3/lib/python3.9/site-packages (from mlflow) (6.0)\n",
      "Requirement already satisfied: requests<3,>=2.17.3 in /home/codespace/anaconda3/lib/python3.9/site-packages (from mlflow) (2.27.1)\n",
      "Collecting pyarrow<16,>=4.0.0\n",
      "  Downloading pyarrow-15.0.2-cp39-cp39-manylinux_2_28_x86_64.whl (38.3 MB)\n",
      "\u001b[K     |████████████████████████████████| 38.3 MB 82.7 MB/s eta 0:00:01\n",
      "\u001b[?25hRequirement already satisfied: entrypoints<1 in /home/codespace/anaconda3/lib/python3.9/site-packages (from mlflow) (0.4)\n",
      "Requirement already satisfied: sqlalchemy<3,>=1.4.0 in /home/codespace/anaconda3/lib/python3.9/site-packages (from mlflow) (1.4.32)\n",
      "Requirement already satisfied: pandas<3 in /home/codespace/anaconda3/lib/python3.9/site-packages (from mlflow) (2.2.2)\n",
      "Requirement already satisfied: cloudpickle<4 in /home/codespace/anaconda3/lib/python3.9/site-packages (from mlflow) (2.0.0)\n",
      "Collecting alembic!=1.10.0,<2\n",
      "  Downloading alembic-1.13.1-py3-none-any.whl (233 kB)\n",
      "\u001b[K     |████████████████████████████████| 233 kB 101.4 MB/s eta 0:00:01\n",
      "\u001b[?25hRequirement already satisfied: scipy<2 in /home/codespace/anaconda3/lib/python3.9/site-packages (from mlflow) (1.7.3)\n",
      "Collecting sqlparse<1,>=0.4.0\n",
      "  Downloading sqlparse-0.5.0-py3-none-any.whl (43 kB)\n",
      "\u001b[K     |████████████████████████████████| 43 kB 897 kB/s  eta 0:00:01\n",
      "\u001b[?25hRequirement already satisfied: packaging<25 in /home/codespace/anaconda3/lib/python3.9/site-packages (from mlflow) (21.3)\n",
      "Requirement already satisfied: protobuf<5,>=3.12.0 in /home/codespace/anaconda3/lib/python3.9/site-packages (from mlflow) (3.19.1)\n",
      "Collecting docker<8,>=4.0.0\n",
      "  Downloading docker-7.1.0-py3-none-any.whl (147 kB)\n",
      "\u001b[K     |████████████████████████████████| 147 kB 90.8 MB/s eta 0:00:01\n",
      "\u001b[?25hRequirement already satisfied: markdown<4,>=3.3 in /home/codespace/anaconda3/lib/python3.9/site-packages (from mlflow) (3.3.4)\n",
      "Requirement already satisfied: pytz<2025 in /home/codespace/anaconda3/lib/python3.9/site-packages (from mlflow) (2021.3)\n",
      "Requirement already satisfied: Flask<4 in /home/codespace/anaconda3/lib/python3.9/site-packages (from mlflow) (1.1.2)\n",
      "Collecting gunicorn<23\n",
      "  Downloading gunicorn-22.0.0-py3-none-any.whl (84 kB)\n",
      "\u001b[K     |████████████████████████████████| 84 kB 1.2 MB/s  eta 0:00:01\n",
      "\u001b[?25hCollecting opentelemetry-sdk<3,>=1.0.0\n",
      "  Downloading opentelemetry_sdk-1.24.0-py3-none-any.whl (106 kB)\n",
      "\u001b[K     |████████████████████████████████| 106 kB 82.6 MB/s eta 0:00:01\n",
      "\u001b[?25hRequirement already satisfied: matplotlib<4 in /home/codespace/anaconda3/lib/python3.9/site-packages (from mlflow) (3.5.1)\n",
      "Collecting querystring-parser<2\n",
      "  Downloading querystring_parser-1.2.4-py2.py3-none-any.whl (7.9 kB)\n",
      "Collecting graphene<4\n",
      "  Downloading graphene-3.3-py2.py3-none-any.whl (128 kB)\n",
      "\u001b[K     |████████████████████████████████| 128 kB 93.4 MB/s eta 0:00:01\n",
      "\u001b[?25hCollecting cachetools<6,>=5.0.0\n",
      "  Downloading cachetools-5.3.3-py3-none-any.whl (9.3 kB)\n",
      "Collecting gitpython<4,>=3.1.9\n",
      "  Downloading GitPython-3.1.43-py3-none-any.whl (207 kB)\n",
      "\u001b[K     |████████████████████████████████| 207 kB 90.2 MB/s eta 0:00:01\n",
      "\u001b[?25hCollecting opentelemetry-api<3,>=1.0.0\n",
      "  Downloading opentelemetry_api-1.24.0-py3-none-any.whl (60 kB)\n",
      "\u001b[K     |████████████████████████████████| 60 kB 3.1 MB/s  eta 0:00:01\n",
      "\u001b[?25hRequirement already satisfied: scikit-learn<2 in /home/codespace/anaconda3/lib/python3.9/site-packages (from mlflow) (1.0.2)\n",
      "Requirement already satisfied: click<9,>=7.0 in /home/codespace/anaconda3/lib/python3.9/site-packages (from mlflow) (8.0.4)\n",
      "Requirement already satisfied: Jinja2<4,>=2.11 in /home/codespace/anaconda3/lib/python3.9/site-packages (from mlflow) (2.11.3)\n",
      "Requirement already satisfied: importlib-metadata!=4.7.0,<8,>=3.7.0 in /home/codespace/anaconda3/lib/python3.9/site-packages (from mlflow) (4.11.3)\n",
      "Collecting Mako\n",
      "  Downloading Mako-1.3.5-py3-none-any.whl (78 kB)\n",
      "\u001b[K     |████████████████████████████████| 78 kB 3.0 MB/s  eta 0:00:01\n",
      "\u001b[?25hRequirement already satisfied: typing-extensions>=4 in /home/codespace/anaconda3/lib/python3.9/site-packages (from alembic!=1.10.0,<2->mlflow) (4.1.1)\n",
      "Requirement already satisfied: urllib3>=1.26.0 in /home/codespace/anaconda3/lib/python3.9/site-packages (from docker<8,>=4.0.0->mlflow) (1.26.9)\n",
      "Requirement already satisfied: Werkzeug>=0.15 in /home/codespace/anaconda3/lib/python3.9/site-packages (from Flask<4->mlflow) (2.0.3)\n",
      "Requirement already satisfied: itsdangerous>=0.24 in /home/codespace/anaconda3/lib/python3.9/site-packages (from Flask<4->mlflow) (2.0.1)\n",
      "Collecting gitdb<5,>=4.0.1\n",
      "  Downloading gitdb-4.0.11-py3-none-any.whl (62 kB)\n",
      "\u001b[K     |████████████████████████████████| 62 kB 526 kB/s  eta 0:00:01\n",
      "\u001b[?25hCollecting smmap<6,>=3.0.1\n",
      "  Downloading smmap-5.0.1-py3-none-any.whl (24 kB)\n",
      "Collecting graphql-relay<3.3,>=3.1\n",
      "  Downloading graphql_relay-3.2.0-py3-none-any.whl (16 kB)\n",
      "Collecting graphql-core<3.3,>=3.1\n",
      "  Downloading graphql_core-3.2.3-py3-none-any.whl (202 kB)\n",
      "\u001b[K     |████████████████████████████████| 202 kB 75.6 MB/s eta 0:00:01\n",
      "\u001b[?25hCollecting aniso8601<10,>=8\n",
      "  Downloading aniso8601-9.0.1-py2.py3-none-any.whl (52 kB)\n",
      "\u001b[K     |████████████████████████████████| 52 kB 534 kB/s  eta 0:00:01\n",
      "\u001b[?25hRequirement already satisfied: zipp>=0.5 in /home/codespace/anaconda3/lib/python3.9/site-packages (from importlib-metadata!=4.7.0,<8,>=3.7.0->mlflow) (3.7.0)\n",
      "Requirement already satisfied: MarkupSafe>=0.23 in /home/codespace/anaconda3/lib/python3.9/site-packages (from Jinja2<4,>=2.11->mlflow) (2.0.1)\n",
      "Requirement already satisfied: fonttools>=4.22.0 in /home/codespace/anaconda3/lib/python3.9/site-packages (from matplotlib<4->mlflow) (4.25.0)\n",
      "Requirement already satisfied: pillow>=6.2.0 in /home/codespace/anaconda3/lib/python3.9/site-packages (from matplotlib<4->mlflow) (9.0.1)\n",
      "Requirement already satisfied: kiwisolver>=1.0.1 in /home/codespace/anaconda3/lib/python3.9/site-packages (from matplotlib<4->mlflow) (1.3.2)\n",
      "Requirement already satisfied: cycler>=0.10 in /home/codespace/anaconda3/lib/python3.9/site-packages (from matplotlib<4->mlflow) (0.11.0)\n",
      "Requirement already satisfied: python-dateutil>=2.7 in /home/codespace/anaconda3/lib/python3.9/site-packages (from matplotlib<4->mlflow) (2.8.2)\n",
      "Requirement already satisfied: pyparsing>=2.2.1 in /home/codespace/anaconda3/lib/python3.9/site-packages (from matplotlib<4->mlflow) (3.0.4)\n",
      "Collecting importlib-metadata!=4.7.0,<8,>=3.7.0\n",
      "  Downloading importlib_metadata-7.0.0-py3-none-any.whl (23 kB)\n",
      "Collecting deprecated>=1.2.6\n",
      "  Downloading Deprecated-1.2.14-py2.py3-none-any.whl (9.6 kB)\n",
      "Requirement already satisfied: wrapt<2,>=1.10 in /home/codespace/anaconda3/lib/python3.9/site-packages (from deprecated>=1.2.6->opentelemetry-api<3,>=1.0.0->mlflow) (1.12.1)\n",
      "Collecting opentelemetry-semantic-conventions==0.45b0\n",
      "  Downloading opentelemetry_semantic_conventions-0.45b0-py3-none-any.whl (36 kB)\n",
      "Requirement already satisfied: tzdata>=2022.7 in /home/codespace/anaconda3/lib/python3.9/site-packages (from pandas<3->mlflow) (2024.1)\n",
      "Requirement already satisfied: six>=1.5 in /home/codespace/anaconda3/lib/python3.9/site-packages (from python-dateutil>=2.7->matplotlib<4->mlflow) (1.16.0)\n",
      "Requirement already satisfied: charset-normalizer~=2.0.0 in /home/codespace/anaconda3/lib/python3.9/site-packages (from requests<3,>=2.17.3->mlflow) (2.0.4)\n",
      "Requirement already satisfied: certifi>=2017.4.17 in /home/codespace/anaconda3/lib/python3.9/site-packages (from requests<3,>=2.17.3->mlflow) (2021.10.8)\n",
      "Requirement already satisfied: idna<4,>=2.5 in /home/codespace/anaconda3/lib/python3.9/site-packages (from requests<3,>=2.17.3->mlflow) (3.3)\n",
      "Requirement already satisfied: joblib>=0.11 in /home/codespace/anaconda3/lib/python3.9/site-packages (from scikit-learn<2->mlflow) (1.1.0)\n",
      "Requirement already satisfied: threadpoolctl>=2.0.0 in /home/codespace/anaconda3/lib/python3.9/site-packages (from scikit-learn<2->mlflow) (2.2.0)\n",
      "Collecting numpy<2\n",
      "  Downloading numpy-1.22.4-cp39-cp39-manylinux_2_17_x86_64.manylinux2014_x86_64.whl (16.8 MB)\n",
      "\u001b[K     |████████████████████████████████| 16.8 MB 22.5 MB/s eta 0:00:01\n",
      "\u001b[?25hRequirement already satisfied: greenlet!=0.4.17 in /home/codespace/anaconda3/lib/python3.9/site-packages (from sqlalchemy<3,>=1.4.0->mlflow) (1.1.1)\n",
      "Installing collected packages: smmap, numpy, importlib-metadata, graphql-core, deprecated, opentelemetry-semantic-conventions, opentelemetry-api, Mako, graphql-relay, gitdb, aniso8601, sqlparse, querystring-parser, pyarrow, opentelemetry-sdk, gunicorn, graphene, gitpython, docker, cachetools, alembic, mlflow\n",
      "  Attempting uninstall: numpy\n",
      "    Found existing installation: numpy 1.26.4\n",
      "    Uninstalling numpy-1.26.4:\n",
      "      Successfully uninstalled numpy-1.26.4\n",
      "  Attempting uninstall: importlib-metadata\n",
      "    Found existing installation: importlib-metadata 4.11.3\n",
      "    Uninstalling importlib-metadata-4.11.3:\n",
      "      Successfully uninstalled importlib-metadata-4.11.3\n",
      "  Attempting uninstall: pyarrow\n",
      "    Found existing installation: pyarrow 16.0.0\n",
      "    Uninstalling pyarrow-16.0.0:\n",
      "      Successfully uninstalled pyarrow-16.0.0\n",
      "  Attempting uninstall: cachetools\n",
      "    Found existing installation: cachetools 4.2.2\n",
      "    Uninstalling cachetools-4.2.2:\n",
      "      Successfully uninstalled cachetools-4.2.2\n",
      "\u001b[31mERROR: pip's dependency resolver does not currently take into account all the packages that are installed. This behaviour is the source of the following dependency conflicts.\n",
      "daal4py 2021.5.0 requires daal==2021.4.0, which is not installed.\n",
      "numba 0.55.1 requires numpy<1.22,>=1.18, but you have numpy 1.22.4 which is incompatible.\n",
      "google-auth 1.33.0 requires cachetools<5.0,>=2.0.0, but you have cachetools 5.3.3 which is incompatible.\u001b[0m\n",
      "Successfully installed Mako-1.3.5 alembic-1.13.1 aniso8601-9.0.1 cachetools-5.3.3 deprecated-1.2.14 docker-7.1.0 gitdb-4.0.11 gitpython-3.1.43 graphene-3.3 graphql-core-3.2.3 graphql-relay-3.2.0 gunicorn-22.0.0 importlib-metadata-7.0.0 mlflow-2.13.0 numpy-1.22.4 opentelemetry-api-1.24.0 opentelemetry-sdk-1.24.0 opentelemetry-semantic-conventions-0.45b0 pyarrow-15.0.2 querystring-parser-1.2.4 smmap-5.0.1 sqlparse-0.5.0\n",
      "Note: you may need to restart the kernel to use updated packages.\n"
     ]
    }
   ],
   "source": [
    "pip install mlflow"
   ]
  },
  {
   "cell_type": "code",
   "execution_count": 3,
   "metadata": {},
   "outputs": [
    {
     "name": "stderr",
     "output_type": "stream",
     "text": [
      "/home/codespace/anaconda3/lib/python3.9/site-packages/pandas/core/computation/expressions.py:21: UserWarning: Pandas requires version '2.8.4' or newer of 'numexpr' (version '2.8.1' currently installed).\n",
      "  from pandas.core.computation.check import NUMEXPR_INSTALLED\n",
      "/home/codespace/anaconda3/lib/python3.9/site-packages/pandas/core/arrays/masked.py:60: UserWarning: Pandas requires version '1.3.6' or newer of 'bottleneck' (version '1.3.4' currently installed).\n",
      "  from pandas.core import (\n"
     ]
    }
   ],
   "source": [
    "import os\n",
    "import pickle\n",
    "import click\n",
    "import mlflow\n",
    "\n",
    "from mlflow.entities import ViewType\n",
    "from mlflow.tracking import MlflowClient\n",
    "from sklearn.ensemble import RandomForestRegressor\n",
    "from sklearn.metrics import mean_squared_error"
   ]
  },
  {
   "cell_type": "code",
   "execution_count": 4,
   "metadata": {},
   "outputs": [],
   "source": [
    "HPO_EXPERIMENT_NAME = \"random-forest-hyperopt\"\n",
    "EXPERIMENT_NAME = \"random-forest-best-models\"\n",
    "RF_PARAMS = ['max_depth', 'n_estimators', 'min_samples_split', 'min_samples_leaf', 'random_state']"
   ]
  },
  {
   "cell_type": "code",
   "execution_count": 11,
   "metadata": {},
   "outputs": [],
   "source": [
    "mlflow.set_tracking_uri(\"http://127.0.0.1:5000\")"
   ]
  },
  {
   "cell_type": "code",
   "execution_count": 12,
   "metadata": {},
   "outputs": [],
   "source": [
    "client = MlflowClient()"
   ]
  },
  {
   "cell_type": "code",
   "execution_count": 13,
   "metadata": {},
   "outputs": [],
   "source": [
    "experiment = client.get_experiment_by_name(HPO_EXPERIMENT_NAME)"
   ]
  },
  {
   "cell_type": "code",
   "execution_count": 15,
   "metadata": {},
   "outputs": [
    {
     "data": {
      "text/plain": [
       "'2'"
      ]
     },
     "execution_count": 15,
     "metadata": {},
     "output_type": "execute_result"
    }
   ],
   "source": [
    "experiment.experiment_id"
   ]
  },
  {
   "cell_type": "code",
   "execution_count": null,
   "metadata": {},
   "outputs": [],
   "source": []
  }
 ],
 "metadata": {
  "kernelspec": {
   "display_name": "Python 3",
   "language": "python",
   "name": "python3"
  },
  "language_info": {
   "codemirror_mode": {
    "name": "ipython",
    "version": 3
   },
   "file_extension": ".py",
   "mimetype": "text/x-python",
   "name": "python",
   "nbconvert_exporter": "python",
   "pygments_lexer": "ipython3",
   "version": "3.9.12"
  }
 },
 "nbformat": 4,
 "nbformat_minor": 2
}
